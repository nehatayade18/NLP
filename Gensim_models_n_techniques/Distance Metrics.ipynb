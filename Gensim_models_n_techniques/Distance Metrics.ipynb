{
 "cells": [
  {
   "cell_type": "markdown",
   "metadata": {},
   "source": [
    "## Distance Metrics"
   ]
  },
  {
   "cell_type": "markdown",
   "metadata": {},
   "source": [
    "The current tutorial shows the building block of these larger methods, which are a small suite of distance metrics. Set up a small corpus consisting of documents belonging to one of two topics"
   ]
  },
  {
   "cell_type": "code",
   "execution_count": 1,
   "metadata": {},
   "outputs": [
    {
     "data": {
      "text/plain": [
       "[(0,\n",
       "  '0.207*\"bank\" + 0.100*\"water\" + 0.089*\"river\" + 0.088*\"sell\" + 0.067*\"borrow\" + 0.064*\"finance\" + 0.062*\"money\" + 0.053*\"tree\" + 0.045*\"flow\" + 0.044*\"rain\"'),\n",
       " (1,\n",
       "  '0.142*\"bank\" + 0.116*\"water\" + 0.090*\"river\" + 0.084*\"money\" + 0.081*\"finance\" + 0.064*\"flow\" + 0.055*\"transaction\" + 0.055*\"tree\" + 0.053*\"fall\" + 0.050*\"mud\"')]"
      ]
     },
     "execution_count": 1,
     "metadata": {},
     "output_type": "execute_result"
    }
   ],
   "source": [
    "from gensim.corpora import Dictionary\n",
    "\n",
    "# you can use any corpus, this is just illustratory\n",
    "texts = [\n",
    "    ['bank','river','shore','water'],\n",
    "    ['river','water','flow','fast','tree'],\n",
    "    ['bank','water','fall','flow'],\n",
    "    ['bank','bank','water','rain','river'],\n",
    "    ['river','water','mud','tree'],\n",
    "    ['money','transaction','bank','finance'],\n",
    "    ['bank','borrow','money'],\n",
    "    ['bank','finance'],\n",
    "    ['finance','money','sell','bank'],\n",
    "    ['borrow','sell'],\n",
    "    ['bank','loan','sell'],\n",
    "]\n",
    "\n",
    "dictionary = Dictionary(texts)\n",
    "corpus = [dictionary.doc2bow(text) for text in texts]\n",
    "\n",
    "import numpy\n",
    "numpy.random.seed(1) # setting random seed to get the same results each time.\n",
    "\n",
    "from gensim.models import ldamodel\n",
    "model = ldamodel.LdaModel(corpus, id2word=dictionary, num_topics=2, minimum_probability=1e-8)\n",
    "model.show_topics()"
   ]
  },
  {
   "cell_type": "markdown",
   "metadata": {},
   "source": [
    "Let’s call the 1st topic the water topic and the second topic the finance topic.\n",
    "\n",
    "Let’s take a few sample documents and get them ready to test our distance functions."
   ]
  },
  {
   "cell_type": "code",
   "execution_count": 2,
   "metadata": {},
   "outputs": [],
   "source": [
    "doc_water = ['river', 'water', 'shore']\n",
    "doc_finance = ['finance', 'money', 'sell']\n",
    "doc_bank = ['finance', 'bank', 'tree', 'water']\n",
    "\n",
    "# now let's make these into a bag of words format\n",
    "bow_water = model.id2word.doc2bow(doc_water)\n",
    "bow_finance = model.id2word.doc2bow(doc_finance)\n",
    "bow_bank = model.id2word.doc2bow(doc_bank)\n",
    "\n",
    "# we can now get the LDA topic distributions for these\n",
    "lda_bow_water = model[bow_water]\n",
    "lda_bow_finance = model[bow_finance]\n",
    "lda_bow_bank = model[bow_bank]"
   ]
  },
  {
   "cell_type": "markdown",
   "metadata": {},
   "source": [
    "### Hellinger<br>\n",
    "We’re now ready to apply our distance metrics. These metrics return a value between 0 and 1, where values closer to 0 indicate a smaller ‘distance’ and therefore a larger similarity.\n",
    "\n",
    "Let’s start with the popular Hellinger distance.\n",
    "\n",
    "The Hellinger distance metric gives an output in the range [0,1] for two probability distributions, with values closer to 0 meaning they are more similar."
   ]
  },
  {
   "cell_type": "code",
   "execution_count": 3,
   "metadata": {},
   "outputs": [
    {
     "name": "stdout",
     "output_type": "stream",
     "text": [
      "0.24622680036023792\n",
      "0.007332369161871279\n"
     ]
    }
   ],
   "source": [
    "from gensim.matutils import hellinger\n",
    "print(hellinger(lda_bow_water, lda_bow_finance))\n",
    "print(hellinger(lda_bow_finance, lda_bow_bank))"
   ]
  },
  {
   "cell_type": "markdown",
   "metadata": {},
   "source": [
    "### Kullback–Leibler\n",
    "Let’s run similar examples down with Kullback Leibler."
   ]
  },
  {
   "cell_type": "code",
   "execution_count": 4,
   "metadata": {},
   "outputs": [
    {
     "name": "stdout",
     "output_type": "stream",
     "text": [
      "0.22783144\n",
      "0.00021460559\n"
     ]
    }
   ],
   "source": [
    "from gensim.matutils import kullback_leibler\n",
    "\n",
    "print(kullback_leibler(lda_bow_water, lda_bow_bank))\n",
    "print(kullback_leibler(lda_bow_finance, lda_bow_bank))"
   ]
  },
  {
   "cell_type": "markdown",
   "metadata": {},
   "source": [
    "KL is not a Distance Metric in the mathematical sense, and hence is not symmetrical. This means that kullback_leibler(lda_bow_finance, lda_bow_bank) is not equal to kullback_leibler(lda_bow_bank, lda_bow_finance)."
   ]
  },
  {
   "cell_type": "code",
   "execution_count": 5,
   "metadata": {},
   "outputs": [
    {
     "name": "stdout",
     "output_type": "stream",
     "text": [
      "0.00021550711\n"
     ]
    }
   ],
   "source": [
    "print(kullback_leibler(lda_bow_bank, lda_bow_finance))"
   ]
  },
  {
   "cell_type": "markdown",
   "metadata": {},
   "source": [
    "### Jaccard\n",
    "Let us now look at the Jaccard Distance metric for similarity between bags of words (i.e, documents)"
   ]
  },
  {
   "cell_type": "code",
   "execution_count": 6,
   "metadata": {},
   "outputs": [
    {
     "name": "stdout",
     "output_type": "stream",
     "text": [
      "0.8571428571428572\n",
      "0.8333333333333334\n",
      "0.0\n"
     ]
    }
   ],
   "source": [
    "from gensim.matutils import jaccard\n",
    "\n",
    "print(jaccard(bow_water, bow_bank))\n",
    "print(jaccard(doc_water, doc_bank))\n",
    "print(jaccard(['word'], ['word']))"
   ]
  },
  {
   "cell_type": "markdown",
   "metadata": {},
   "source": [
    "The three examples above feature 2 different input methods.\n",
    "\n",
    "In the first case, we present to jaccard document vectors already in bag of words format. The distance can be defined as 1 minus the size of the intersection upon the size of the union of the vectors.\n",
    "\n",
    "We can see (on manual inspection as well), that the distance is likely to be high - and it is.\n",
    "\n",
    "The last two examples illustrate the ability for jaccard to accept even lists (i.e, documents) as inputs.\n",
    "\n",
    "In the last case, because they are the same vectors, the value returned is 0 - this means the distance is 0 and the two documents are identical."
   ]
  },
  {
   "cell_type": "markdown",
   "metadata": {},
   "source": [
    "### Distance Metrics for Topic Distributions"
   ]
  },
  {
   "cell_type": "code",
   "execution_count": 7,
   "metadata": {},
   "outputs": [
    {
     "name": "stdout",
     "output_type": "stream",
     "text": [
      "[(0, 0.142), (3, 0.116), (1, 0.09), (11, 0.084), (10, 0.081), (5, 0.064), (12, 0.055), (6, 0.055), (7, 0.053), (9, 0.05)]\n"
     ]
    }
   ],
   "source": [
    "topic_water, topic_finance = model.show_topics()\n",
    "\n",
    "# some pre processing to get the topics in a format acceptable to our distance metrics\n",
    "\n",
    "def parse_topic_string(topic):\n",
    "    # takes the string returned by model.show_topics()\n",
    "    # split on strings to get topics and the probabilities\n",
    "    topic = topic.split('+')\n",
    "    # list to store topic bows\n",
    "    topic_bow = []\n",
    "    for word in topic:\n",
    "        # split probability and word\n",
    "        prob, word = word.split('*')\n",
    "        # get rid of spaces and quote marks\n",
    "        word = word.replace(\" \",\"\").replace('\"', '')\n",
    "        # convert to word_type\n",
    "        word = model.id2word.doc2bow([word])[0][0]\n",
    "        topic_bow.append((word, float(prob)))\n",
    "    return topic_bow\n",
    "\n",
    "finance_distribution = parse_topic_string(topic_finance[1])\n",
    "water_distribution = parse_topic_string(topic_water[1])\n",
    "\n",
    "# the finance topic in bag of words format looks like this:\n",
    "print(finance_distribution)"
   ]
  },
  {
   "cell_type": "markdown",
   "metadata": {},
   "source": [
    "Our value of roughly 0.36 means that the topics are not TOO distant with respect to their word distributions.\n",
    "\n",
    "This makes sense again, because of overlapping words like bank and a small size dictionary."
   ]
  },
  {
   "cell_type": "markdown",
   "metadata": {},
   "source": [
    "### Kullback-Leibler Gotchas\n",
    "In our previous example we didn’t use Kullback Leibler to test for similarity for a reason - KL is not a Distance ‘Metric’ in the technical sense (you can see what a metric is here). The nature of it, mathematically also means we must be a little careful before using it, because since it involves the log function, a zero can mess things up. For example:"
   ]
  },
  {
   "cell_type": "code",
   "execution_count": 8,
   "metadata": {},
   "outputs": [
    {
     "name": "stdout",
     "output_type": "stream",
     "text": [
      "inf\n"
     ]
    }
   ],
   "source": [
    "# 16 here is the number of features the probability distribution draws from\n",
    "print(kullback_leibler(water_distribution, finance_distribution, 16))"
   ]
  },
  {
   "cell_type": "markdown",
   "metadata": {},
   "source": [
    "Our old example didn’t work out because they were some missing values for some words (because show_topics() only returned the top 10 topics)."
   ]
  },
  {
   "cell_type": "code",
   "execution_count": 9,
   "metadata": {},
   "outputs": [
    {
     "name": "stdout",
     "output_type": "stream",
     "text": [
      "0.087688535\n"
     ]
    }
   ],
   "source": [
    "# return ALL the words in the dictionary for the topic-word distribution.\n",
    "topic_water, topic_finance = model.show_topics(num_words=len(model.id2word))\n",
    "\n",
    "# do our bag of words transformation again\n",
    "finance_distribution = parse_topic_string(topic_finance[1])\n",
    "water_distribution = parse_topic_string(topic_water[1])\n",
    "\n",
    "# and voila!\n",
    "print(kullback_leibler(water_distribution, finance_distribution))"
   ]
  },
  {
   "cell_type": "markdown",
   "metadata": {},
   "source": [
    "You may notice that the distance for this is quite less, indicating a high similarity. This may be a bit off because of the small size of the corpus, where all topics are likely to contain a decent overlap of word probabilities. You will likely get a better value for a bigger corpus.\n",
    "\n",
    "So, just remember, if you intend to use KL as a metric to measure similarity or distance between two distributions, avoid zeros by returning the ENTIRE distribution. Since it’s unlikely any probability distribution will ever have absolute zeros for any feature/word, returning all the values like we did will make you good to go."
   ]
  },
  {
   "cell_type": "markdown",
   "metadata": {},
   "source": [
    "### What are Distance Metrics?\n",
    "Having seen the practical usages of these measures (i.e, to find similarity), let’s learn a little about what exactly Distance Measures and Metrics are.\n",
    "\n",
    "I mentioned in the previous section that KL was not a distance metric. There are 4 conditons for for a distance measure to be a metric:\n",
    "\n",
    "1. d(x,y) >= 0\n",
    "\n",
    "2. d(x,y) = 0 <=> x = y\n",
    "\n",
    "3. d(x,y) = d(y,x)\n",
    "\n",
    "4. d(x,z) <= d(x,y) + d(y,z)\n",
    "\n",
    "That is: it must be non-negative; if x and y are the same, distance must be zero; it must be symmetric; and it must obey the triangle inequality law.\n",
    "\n",
    "Simple enough, right?\n",
    "\n",
    "Let’s test these out for our measures."
   ]
  },
  {
   "cell_type": "code",
   "execution_count": 10,
   "metadata": {},
   "outputs": [
    {
     "name": "stdout",
     "output_type": "stream",
     "text": [
      "0.14950162744749795\n",
      "0.14950162744749795\n",
      "True\n",
      "0.0\n",
      "0.007332369161871279\n"
     ]
    }
   ],
   "source": [
    "# normal Hellinger\n",
    "a = hellinger(water_distribution, finance_distribution)\n",
    "b = hellinger(finance_distribution, water_distribution)\n",
    "print(a)\n",
    "print(b)\n",
    "print(a == b)\n",
    "\n",
    "# if we pass the same values, it is zero.\n",
    "print(hellinger(water_distribution, water_distribution))\n",
    "\n",
    "# for triangle inequality let's use LDA document distributions\n",
    "print(hellinger(lda_bow_finance, lda_bow_bank))\n",
    "\n",
    "# Triangle inequality works too!"
   ]
  },
  {
   "cell_type": "code",
   "execution_count": 11,
   "metadata": {},
   "outputs": [
    {
     "name": "stdout",
     "output_type": "stream",
     "text": [
      "0.09273797\n",
      "0.087688535\n",
      "False\n"
     ]
    }
   ],
   "source": [
    "a = kullback_leibler(finance_distribution, water_distribution)\n",
    "b = kullback_leibler(water_distribution, finance_distribution)\n",
    "print(a)\n",
    "print(b)\n",
    "print(a == b)"
   ]
  },
  {
   "cell_type": "markdown",
   "metadata": {},
   "source": [
    "We immediately notice that when we swap the values they aren’t equal! One of the four conditions not fitting is enough for it to not be a metric.\n",
    "\n",
    "However, just because it is not a metric, (strictly in the mathematical sense) does not mean that it is not useful to figure out the distance between two probability distributions. KL Divergence is widely used for this purpose, and is probably the most ‘famous’ distance measure in fields like Information Theory."
   ]
  },
  {
   "cell_type": "markdown",
   "metadata": {},
   "source": [
    "### Visualizing Distance Metrics\n",
    "Let’s plot a graph of our toy dataset using the popular networkx library.\n",
    "\n",
    "Each node will be a document, where the color of the node will be its topic according to the LDA model. Edges will connect documents to each other, where the weight of the edge will be inversely proportional to the Jaccard similarity between two documents. We will also annotate the edges to further aid visualization: strong edges will connect similar documents, and weak (dashed) edges will connect dissimilar documents."
   ]
  },
  {
   "cell_type": "code",
   "execution_count": 14,
   "metadata": {},
   "outputs": [
    {
     "name": "stderr",
     "output_type": "stream",
     "text": [
      "C:\\Users\\Neha\\AppData\\Local\\Continuum\\anaconda3\\lib\\site-packages\\networkx\\drawing\\nx_pylab.py:579: MatplotlibDeprecationWarning: \n",
      "The iterable function was deprecated in Matplotlib 3.1 and will be removed in 3.3. Use np.iterable instead.\n",
      "  if not cb.iterable(width):\n"
     ]
    },
    {
     "data": {
      "text/plain": [
       "{0: Text(-0.774805147567295, -0.4755672400307221, '0'),\n",
       " 1: Text(0.23710174258970634, 0.9917041386614814, '1'),\n",
       " 2: Text(-0.7579961355368127, 0.6788512546164743, '2'),\n",
       " 3: Text(-0.87543144594824, 0.06951761133944824, '3'),\n",
       " 4: Text(-0.2321802075710135, 0.6734223762214376, '4'),\n",
       " 5: Text(-0.05767008872699794, -0.424287505901816, '5'),\n",
       " 6: Text(0.24734696514712412, 0.0935516808043475, '6'),\n",
       " 7: Text(0.7817362032841586, 0.4464108349052585, '7'),\n",
       " 8: Text(0.8522123297868622, -0.2191822982827032, '8'),\n",
       " 9: Text(0.6722338731706773, -0.834420852333211, '9'),\n",
       " 10: Text(-0.0925480886281743, -1.0, '10')}"
      ]
     },
     "execution_count": 14,
     "metadata": {},
     "output_type": "execute_result"
    },
    {
     "data": {
      "image/png": "[encoded data removed]",
      "text/plain": [
       "<Figure size 432x288 with 1 Axes>"
      ]
     },
     "metadata": {},
     "output_type": "display_data"
    }
   ],
   "source": [
    "import networkx as nx\n",
    "import itertools\n",
    "def get_most_likely_topic(doc):\n",
    "    bow = model.id2word.doc2bow(doc)\n",
    "    topics, probabilities = zip(*model.get_document_topics(bow))\n",
    "    max_p = max(probabilities)\n",
    "    topic = topics[probabilities.index(max_p)]\n",
    "    return topic\n",
    "\n",
    "def get_node_color(i):\n",
    "    return 'skyblue' if get_most_likely_topic(texts[i]) == 0 else 'pink'\n",
    "\n",
    "G = nx.Graph()\n",
    "for i, _ in enumerate(texts):\n",
    "    G.add_node(i)\n",
    "\n",
    "for (i1, i2) in itertools.combinations(range(len(texts)), 2):\n",
    "    bow1, bow2 = texts[i1], texts[i2]\n",
    "    distance = jaccard(bow1, bow2)\n",
    "    G.add_edge(i1, i2, weight=1/distance)\n",
    "\n",
    "#\n",
    "# https://networkx.github.io/documentation/networkx-1.9/examples/drawing/weighted_graph.html\n",
    "#\n",
    "pos = nx.spring_layout(G)\n",
    "\n",
    "threshold = 1.25\n",
    "elarge=[(u,v) for (u,v,d) in G.edges(data=True) if d['weight'] > threshold]\n",
    "esmall=[(u,v) for (u,v,d) in G.edges(data=True) if d['weight'] <= threshold]\n",
    "\n",
    "node_colors = [get_node_color(i) for (i, _) in enumerate(texts)]\n",
    "nx.draw_networkx_nodes(G, pos, node_size=700, node_color=node_colors)\n",
    "nx.draw_networkx_edges(G,pos,edgelist=elarge, width=2)\n",
    "nx.draw_networkx_edges(G,pos,edgelist=esmall, width=2, alpha=0.2, edge_color='b', style='dashed')\n",
    "nx.draw_networkx_labels(G, pos, font_size=20, font_family='sans-serif')"
   ]
  },
  {
   "cell_type": "markdown",
   "metadata": {},
   "source": [
    "We can make several observations from this graph.\n",
    "\n",
    "First, the graph consists of two connected components (if you ignore the weak edges). Nodes 0, 1, 2, 3, 4 (which all belong to the water topic) form the first connected component. The other nodes, which all belong to the finance topic, form the second connected component.\n",
    "\n",
    "Second, the LDA model didn’t do a very good job of classifying our documents into topics. There were many misclassifications, as you can confirm in the summary below:"
   ]
  },
  {
   "cell_type": "code",
   "execution_count": 13,
   "metadata": {},
   "outputs": [
    {
     "name": "stdout",
     "output_type": "stream",
     "text": [
      "id\ttopic\tdoc\n",
      "0\t0\tbank river shore water\n",
      "1\t0\triver water flow fast tree\n",
      "2\t1\tbank water fall flow\n",
      "3\t0\tbank bank water rain river\n",
      "4\t1\triver water mud tree\n",
      "5\t1\tmoney transaction bank finance\n",
      "6\t0\tbank borrow money\n",
      "7\t0\tbank finance\n",
      "8\t0\tfinance money sell bank\n",
      "9\t0\tborrow sell\n",
      "10\t0\tbank loan sell\n"
     ]
    }
   ],
   "source": [
    "print('id\\ttopic\\tdoc')\n",
    "for i, t in enumerate(texts):\n",
    "    print('%d\\t%d\\t%s' % (i, get_most_likely_topic(t), ' '.join(t)))"
   ]
  },
  {
   "cell_type": "code",
   "execution_count": null,
   "metadata": {},
   "outputs": [],
   "source": []
  }
 ],
 "metadata": {
  "kernelspec": {
   "display_name": "Python 3",
   "language": "python",
   "name": "python3"
  },
  "language_info": {
   "codemirror_mode": {
    "name": "ipython",
    "version": 3
   },
   "file_extension": ".py",
   "mimetype": "text/x-python",
   "name": "python",
   "nbconvert_exporter": "python",
   "pygments_lexer": "ipython3",
   "version": "3.7.4"
  }
 },
 "nbformat": 4,
 "nbformat_minor": 2
}
